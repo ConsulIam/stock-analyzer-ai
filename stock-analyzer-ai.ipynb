{
 "cells": [
  {
   "cell_type": "markdown",
   "metadata": {},
   "source": [
    "<img src=\"./img/stock-analyzer-ai-architecture.png\">"
   ]
  },
  {
   "cell_type": "code",
   "execution_count": null,
   "metadata": {},
   "outputs": [],
   "source": [
    "# Libs install\n",
    "!pip3 install yfinance==0.2.41\n",
    "!pip3 install crewai==0.28.8\n",
    "!pip3 install crewai-tools==0.8.3\n",
    "!pip3 install langchain==0.1.20\n",
    "!pip3 install langchain-openai==0.1.7\n",
    "!pip3 install langchain-community==0.0.38\n",
    "!pip3 install duckduckgo-search==5.3.0"
   ]
  },
  {
   "cell_type": "code",
   "execution_count": null,
   "metadata": {},
   "outputs": [],
   "source": [
    "# Import libs\n",
    "import json\n",
    "import os\n",
    "from datetime import datetime, timedelta\n",
    "\n",
    "import yfinance as yf\n",
    "from crewai import Agent, Task, Crew, Process\n",
    "\n",
    "from langchain.tools import Tool\n",
    "from langchain_openai import ChatOpenAI\n",
    "from langchain_community.tools import DuckDuckGoSearchResults\n",
    "\n",
    "from IPython.display import Markdown"
   ]
  },
  {
   "cell_type": "code",
   "execution_count": null,
   "metadata": {},
   "outputs": [],
   "source": [
    "# Creating Stock Analyzer AI Tool\n",
    "\n",
    "def fetch_stock_price(ticket):\n",
    "    stock = yf.download(ticket, start=\"2023-08-15\", end=\"2024-08-15\")\n",
    "    return stock\n",
    "\n",
    "yahoo_finance_tool = Tool(\n",
    "    name = \"Stock Analyzer AI\",\n",
    "    description = \"Fetches stock prices for {ticket} from the last year about a specific company from Yahoo Finance API.\",\n",
    "    func = lambda ticket: fetch_stock_price(ticket)\n",
    ")"
   ]
  },
  {
   "cell_type": "code",
   "execution_count": null,
   "metadata": {},
   "outputs": [],
   "source": [
    "# Testing the tool\n",
    "response = yahoo_finance_tool.run(\"GOOGL\")\n",
    "print(response)"
   ]
  },
  {
   "cell_type": "code",
   "execution_count": null,
   "metadata": {},
   "outputs": [],
   "source": [
    "# Importing LLM GPT of OpenAI\n",
    "os.environ[\"OPENAI_API_KEY\"] = \"YOUR_OPENAI_API_KEY\"\n",
    "llm = ChatOpenAI(\n",
    "    model=\"gpt-3.5-turbo\"\n",
    "    )"
   ]
  },
  {
   "cell_type": "code",
   "execution_count": null,
   "metadata": {},
   "outputs": [],
   "source": [
    "stockPriceAnalystAgent = Agent(\n",
    "    role = \"Senior Stock Price Analyst\",\n",
    "    goal = \"Find the {ticket} stock price and analyses trends\",\n",
    "    backstory = \"\"\"\n",
    "    You're a highly experienced in analyzing the price of a specific stock and make\n",
    "    predictions about its future price.\n",
    "    \"\"\",\n",
    "    verbose = True,\n",
    "    llm = llm,\n",
    "    max_iter = 3,\n",
    "    memory = True,\n",
    "    allow_delegation = False,\n",
    "    tools = [yahoo_finance_tool]\n",
    ")"
   ]
  },
  {
   "cell_type": "code",
   "execution_count": null,
   "metadata": {},
   "outputs": [],
   "source": [
    "getStockPrice = Task(\n",
    "    description = \"Analyze de stock {ticket} price history and create a trend analyses of up, down or sideways\",\n",
    "    agent = stockPriceAnalystAgent,\n",
    "    expected_output = \"\"\"\n",
    "    Specify the current trend stock price - up, down or sideways.\n",
    "     eg. stock = 'AAPL', price UP.\n",
    "     \"\"\",\n",
    ")"
   ]
  },
  {
   "cell_type": "code",
   "execution_count": null,
   "metadata": {},
   "outputs": [],
   "source": [
    "# Creating News Stock Searching Tool\n",
    "\n",
    "search_tool = DuckDuckGoSearchResults(backend=\"news\", num_results=10)"
   ]
  },
  {
   "cell_type": "code",
   "execution_count": null,
   "metadata": {},
   "outputs": [],
   "source": [
    "newsStockAnalystAgent = Agent(\n",
    "    role = \"Stock News Analyst\",\n",
    "    goal = \"\"\"\n",
    "    Create a short summary of the market news related to the stock {ticket} company.\n",
    "    Specify the current trend - up, down or sideways with the news context. For each requested stock \n",
    "    asset, specify a number between 0 and 100, where 0 is extreme fear and 100 is extreme greed.\n",
    "    \"\"\",\n",
    "    backstory = \"\"\"\n",
    "    You're a highly experienced in analyzing the market trends and news and have \n",
    "    tracked assets for more then 20 years.\n",
    "\n",
    "    You're also master level analyst in the traditional markets and have deep understanding of human \n",
    "    psychology.\n",
    "    \n",
    "    You understand news, theirs tittles and theirs information, but you look at those with a health \n",
    "    dose of skepticism. You consider also the source of the news articles.\n",
    "    \"\"\",\n",
    "    verbose = True,\n",
    "    llm = llm,\n",
    "    max_iter = 7,\n",
    "    memory = True,\n",
    "    allow_delegation = False,\n",
    "    tools = [search_tool]\n",
    ")"
   ]
  },
  {
   "cell_type": "code",
   "execution_count": null,
   "metadata": {},
   "outputs": [],
   "source": [
    "getStockNews = Task(\n",
    "    description = f\"\"\"\n",
    "    Take the stock and always include BTC to it (if no request).\n",
    "    Use the search tool to search each one individually.\n",
    "    \n",
    "    The current date is {datetime.now().strftime('%d/%m/%Y')}.\n",
    "    \n",
    "    Compose the result into a helpful report.\n",
    "    \"\"\",\n",
    "    agent = newsStockAnalystAgent,\n",
    "    expected_output = \"\"\"\n",
    "    A summary of the overall market and one sentence summary for each request \n",
    "    asset.\n",
    "    \n",
    "    Include a fear/greed score for each asset based on the news. Use format:\n",
    "    <STOCK ASSET>\n",
    "    <SUMMARY BASED OF NEWS>\n",
    "    <TREND PREDICTION>\n",
    "    <FEAR/GREED SCORE>\n",
    "    \"\"\",\n",
    ")"
   ]
  },
  {
   "cell_type": "code",
   "execution_count": null,
   "metadata": {},
   "outputs": [],
   "source": [
    "stockAnalystWriterAgent = Agent(\n",
    "    role = \"Senior Stock Analyst Writer\",\n",
    "    goal = \"\"\"\n",
    "    Analyse the trends price and news and write an insightful compelling and informative 3 paragraph long newsletter based on the \n",
    "    stock report and price trend.\n",
    "    \"\"\",\n",
    "    backstory = \"\"\"\n",
    "    You're widely accepted as the best stock analyst in the market. You understand \n",
    "    complex concepts and create compelling stories and narratives that resonate withe the audiences.\n",
    "    \n",
    "    You understand macro factors and combine multiple theories - eg. cycle theory and fundamental analyses. \n",
    "    You're able to hold multiple opinions when analyzing anything data.\n",
    "    \"\"\",\n",
    "    verbose = True,\n",
    "    llm = llm,\n",
    "    max_iter = 3,\n",
    "    memory = True,\n",
    "    allow_delegation = True\n",
    ")"
   ]
  },
  {
   "cell_type": "code",
   "execution_count": null,
   "metadata": {},
   "outputs": [],
   "source": [
    "writeAnalyses = Task(\n",
    "    description = \"\"\"\n",
    "    Use the stock price trend and the stock news report to create an analyses and write the newsletter \n",
    "    about the {ticket} company that is brief and highlights the most important points.\n",
    "\n",
    "    Focus on the stock price trend, news and fear/greed score. What are the near future considerations?\n",
    "\n",
    "    Include the previous analyses of stock trend and news summary.\n",
    "    \"\"\",\n",
    "    agent = stockAnalystWriterAgent,\n",
    "    expected_output = \"\"\"An eloquent 3 paragraphs newsletter format as markdown in a easy readable manner. \n",
    "    Its should contain:\n",
    "\n",
    "    - 3 bullets executive summary\n",
    "    - Introduction - set the overall picture and spike up the interest \n",
    "    - main part provides the meat of the analyses including the news summary and fear/greed score.\n",
    "    - summary - key facts and concrete future trends prediction - up, down, sideways\n",
    "    \n",
    "    \"\"\",\n",
    "    context = [getStockPrice, getStockNews]\n",
    ")"
   ]
  },
  {
   "cell_type": "code",
   "execution_count": null,
   "metadata": {},
   "outputs": [],
   "source": [
    "crew = Crew(\n",
    "    agents = [stockPriceAnalystAgent, newsStockAnalystAgent, stockAnalystWriterAgent],\n",
    "    tasks = [getStockPrice, getStockNews, writeAnalyses],\n",
    "    verbose = 2,\n",
    "    process = Process.hierarchical,\n",
    "    full_output = True,\n",
    "    share_crew = False,\n",
    "    manager_llm = llm,\n",
    "    max_iter = 10\n",
    ")"
   ]
  },
  {
   "cell_type": "code",
   "execution_count": null,
   "metadata": {},
   "outputs": [],
   "source": [
    "results = crew.kickoff(inputs={\"ticket\": \"GOOGL\"})"
   ]
  },
  {
   "cell_type": "code",
   "execution_count": null,
   "metadata": {},
   "outputs": [],
   "source": [
    "print(\"Result of the Senior Stock Price Analyst Agent:\\n\")\n",
    "Markdown(results['tasks_outputs'][0].exported_output)"
   ]
  },
  {
   "cell_type": "code",
   "execution_count": null,
   "metadata": {},
   "outputs": [],
   "source": [
    "print(\"Result of the Stock News Analyst Agent:\\n\")\n",
    "Markdown(results['tasks_outputs'][1].exported_output)"
   ]
  },
  {
   "cell_type": "code",
   "execution_count": null,
   "metadata": {},
   "outputs": [],
   "source": [
    "print(\"Result of the Senior Stock Analyst Writer:\\n\")\n",
    "Markdown(results['tasks_outputs'][2].exported_output)"
   ]
  },
  {
   "cell_type": "code",
   "execution_count": null,
   "metadata": {},
   "outputs": [],
   "source": [
    "print(\"Result of the Senior Stock Analyst Writer:\\n\")\n",
    "Markdown(results[\"final_output\"])"
   ]
  }
 ],
 "metadata": {
  "kernelspec": {
   "display_name": ".venv",
   "language": "python",
   "name": "python3"
  },
  "language_info": {
   "codemirror_mode": {
    "name": "ipython",
    "version": 3
   },
   "file_extension": ".py",
   "mimetype": "text/x-python",
   "name": "python",
   "nbconvert_exporter": "python",
   "pygments_lexer": "ipython3",
   "version": "3.12.1"
  }
 },
 "nbformat": 4,
 "nbformat_minor": 2
}
